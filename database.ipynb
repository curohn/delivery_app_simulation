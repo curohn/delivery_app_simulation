{
 "cells": [
  {
   "cell_type": "code",
   "execution_count": 10,
   "id": "ada520cd",
   "metadata": {},
   "outputs": [],
   "source": [
    "import sqlite3\n",
    "from datetime import datetime, timedelta\n"
   ]
  },
  {
   "cell_type": "code",
   "execution_count": null,
   "id": "ba0c4c95",
   "metadata": {},
   "outputs": [
    {
     "name": "stdout",
     "output_type": "stream",
     "text": [
      "Database initialized and tables created.\n"
     ]
    }
   ],
   "source": [
    "# Initialize Database\n",
    "def initialize_database():\n",
    "    # Connect to SQLite database\n",
    "    conn = sqlite3.connect('delivery_app.db')\n",
    "    cursor = conn.cursor()\n",
    "\n",
    "    # Create a table for users\n",
    "    cursor.execute('''\n",
    "        CREATE TABLE IF NOT EXISTS dim_dates (\n",
    "            date STRING PRIMARY KEY,\n",
    "            year STRING NOT NULL,\n",
    "            month STRING NOT NULL,\n",
    "            day STRING NOT NULL,\n",
    "            is_holiday STRING NOT NULL,\n",
    "            is_weekend STRING NOT NULL,  \n",
    "            FOREIGN KEY (date) REFERENCES fact_orders (date)\n",
    "        )\n",
    "    ''')\n",
    "    cursor.execute('''\n",
    "        CREATE TABLE IF NOT EXISTS dim_restaurants (\n",
    "            restaurant_id INTEGER PRIMARY KEY AUTOINCREMENT,\n",
    "            address STRING NOT NULL,\n",
    "            cuisine STRING NOT NULL,\n",
    "        )\n",
    "    ''')\n",
    "    # Commit changes and close connection\n",
    "    conn.commit()\n",
    "    conn.close()\n",
    "    print(\"Database initialized and tables created.\")\n",
    "initialize_database()"
   ]
  },
  {
   "cell_type": "code",
   "execution_count": 27,
   "id": "e891f9bc",
   "metadata": {},
   "outputs": [
    {
     "name": "stdout",
     "output_type": "stream",
     "text": [
      "dim_dates table populated with date range from 2025-01-01 00:00:00 to 2025-12-31 00:00:00.\n",
      "('2025-01-01', 2025, 1, 1, 'Y', 'N')\n",
      "('2025-01-02', 2025, 1, 2, 'N', 'N')\n",
      "('2025-01-03', 2025, 1, 3, 'N', 'N')\n",
      "('2025-01-04', 2025, 1, 4, 'N', 'Y')\n",
      "('2025-01-05', 2025, 1, 5, 'N', 'Y')\n",
      "('2025-01-06', 2025, 1, 6, 'N', 'N')\n",
      "('2025-01-07', 2025, 1, 7, 'N', 'N')\n",
      "('2025-01-08', 2025, 1, 8, 'N', 'N')\n",
      "('2025-01-09', 2025, 1, 9, 'N', 'N')\n",
      "('2025-01-10', 2025, 1, 10, 'N', 'N')\n"
     ]
    }
   ],
   "source": [
    "# Populate Database\n",
    "def populate_dim_dates():\n",
    "    conn = sqlite3.connect('delivery_app.db')\n",
    "    cursor = conn.cursor()\n",
    "\n",
    "    # Define Date Range\n",
    "    start_date = datetime.strptime('2025-01-01', '%Y-%m-%d')  \n",
    "    end_date = datetime.strptime('2025-12-31', '%Y-%m-%d')\n",
    "\n",
    "\n",
    "    holidays = [\n",
    "        datetime.strptime('2025-01-01', '%Y-%m-%d'),  # New Year's Day\n",
    "        datetime.strptime('2025-01-20', '%Y-%m-%d'),  # Martin Luther King Jr. Day\n",
    "        datetime.strptime('2025-02-17', '%Y-%m-%d'),  # Presidents' Day\n",
    "        datetime.strptime('2025-05-26', '%Y-%m-%d'),  # Memorial Day\n",
    "        datetime.strptime('2025-06-19', '%Y-%m-%d'),  # Juneteenth\n",
    "        datetime.strptime('2025-07-04', '%Y-%m-%d'),  # Independence Day\n",
    "        datetime.strptime('2025-09-01', '%Y-%m-%d'),  # Labor Day\n",
    "        datetime.strptime('2025-10-13', '%Y-%m-%d'),  # Columbus Day\n",
    "        datetime.strptime('2025-11-11', '%Y-%m-%d'),  # Veterans Day\n",
    "        datetime.strptime('2025-11-27', '%Y-%m-%d'),  # Thanksgiving\n",
    "        datetime.strptime('2025-12-25', '%Y-%m-%d'),  # Christmas\n",
    "    ]\n",
    "\n",
    "    # Iterate and Populate\n",
    "    current_date = start_date\n",
    "    while current_date <= end_date:\n",
    "        date = current_date.strftime('%Y-%m-%d')\n",
    "        year = current_date.year\n",
    "        month = current_date.month\n",
    "        day = current_date.day\n",
    "        is_holiday = 'Y' if current_date in holidays else 'N'\n",
    "        is_weekend = 'Y' if current_date.weekday() >= 5 else 'N'\n",
    "\n",
    "        cursor.execute('''\n",
    "            INSERT INTO dim_dates (date, year, month, day, is_holiday, is_weekend)\n",
    "            VALUES (?, ?, ?, ?, ?, ?)\n",
    "        ''', (date, year, month, day, is_holiday, is_weekend))\n",
    "        \n",
    "        current_date += timedelta(days=1)\n",
    "\n",
    "    conn.commit()\n",
    "    conn.close()\n",
    "    print(\"dim_dates table populated with date range from {} to {}.\".format(start_date, end_date))\n",
    "populate_dim_dates()\n",
    "\n",
    "# Query the Database\n",
    "def query_dim_dates():\n",
    "    conn = sqlite3.connect('delivery_app.db')\n",
    "    cursor = conn.cursor()\n",
    "\n",
    "    cursor.execute('SELECT * FROM dim_dates LIMIT 10;')\n",
    "    rows = cursor.fetchall()\n",
    "\n",
    "    for row in rows:\n",
    "        print(row)\n",
    "\n",
    "    conn.close()\n",
    "query_dim_dates()"
   ]
  }
 ],
 "metadata": {
  "kernelspec": {
   "display_name": "Python 3",
   "language": "python",
   "name": "python3"
  },
  "language_info": {
   "codemirror_mode": {
    "name": "ipython",
    "version": 3
   },
   "file_extension": ".py",
   "mimetype": "text/x-python",
   "name": "python",
   "nbconvert_exporter": "python",
   "pygments_lexer": "ipython3",
   "version": "3.12.2"
  }
 },
 "nbformat": 4,
 "nbformat_minor": 5
}
